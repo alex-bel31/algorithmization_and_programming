{
 "cells": [
  {
   "cell_type": "markdown",
   "metadata": {},
   "source": [
    "<div align=center>\n",
    "\n",
    "# Лабораторная работа № 8\n",
    "\n",
    "</div>\n",
    "\n",
    "Программирование алгоритмов с подпрограммами"
   ]
  },
  {
   "cell_type": "markdown",
   "metadata": {},
   "source": [
    "Необходимые импорты"
   ]
  },
  {
   "cell_type": "code",
   "execution_count": 1,
   "metadata": {},
   "outputs": [],
   "source": [
    "import numpy as np"
   ]
  },
  {
   "cell_type": "markdown",
   "metadata": {},
   "source": [
    "12. Вычислить и напечатать:  \n",
    "$ S_i = \n",
    "\\begin{cases}\n",
    "max_i(a_{i,j}) \\text{ если } a_{i1} > a_{i2},\\\\\n",
    "mix_i(a_{i,j}) \\text{ если } a_{i1} \\leq a_{i2};\n",
    "\\end{cases} $\n",
    "\n",
    "$a_{i,j}$ - элементы матрицы $a[m×n]$; $max_i(a_{i,j})$ - соответственно минимальный и максимальный элементы $i$ – ой строки матрицы, а $S_i$ - массив из $m$ элементов."
   ]
  },
  {
   "cell_type": "code",
   "execution_count": 3,
   "metadata": {},
   "outputs": [
    {
     "name": "stdout",
     "output_type": "stream",
     "text": [
      "Массив S_i: [15. 21. 29. 11. 24.]\n"
     ]
    }
   ],
   "source": [
    "m, n = 5, 4\n",
    "a = np.random.randint(1, 100, size=(m, n))\n",
    "\n",
    "S_i = np.zeros(m)\n",
    "\n",
    "for i in range(m):\n",
    "    max_i = np.max(a[i, :]) \n",
    "    min_i = np.min(a[i, :])  \n",
    "\n",
    "    if min_i > max_i:\n",
    "        S_i[i] = max_i\n",
    "    else:\n",
    "        S_i[i] = min_i\n",
    "\n",
    "print(f\"Массив S_i: {S_i}\")"
   ]
  },
  {
   "cell_type": "markdown",
   "metadata": {},
   "source": [
    "Создаем матрицу `a` размером `m×n` со случайными числами и инициализируется массив `S_i` нулями. В цикле проходим по каждой строке `i` матрицы `a`. Для каждой строки находим максимальный `max_i` и минимальный `min_i` элементы. Затем присваиваем `S_i[i]` максимальное значение, если `min_i > max_i`, иначе минимальное значение и выводим выводим результаты."
   ]
  }
 ],
 "metadata": {
  "kernelspec": {
   "display_name": "Python 3",
   "language": "python",
   "name": "python3"
  },
  "language_info": {
   "codemirror_mode": {
    "name": "ipython",
    "version": 3
   },
   "file_extension": ".py",
   "mimetype": "text/x-python",
   "name": "python",
   "nbconvert_exporter": "python",
   "pygments_lexer": "ipython3",
   "version": "3.11.5"
  }
 },
 "nbformat": 4,
 "nbformat_minor": 2
}
