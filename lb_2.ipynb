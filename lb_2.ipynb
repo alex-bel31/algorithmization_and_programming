{
 "cells": [
  {
   "cell_type": "markdown",
   "metadata": {},
   "source": [
    "<div align=center>\n",
    "\n",
    "# Лабораторная работа № 2.\n",
    "\n",
    "</div>\n",
    "\n",
    "Программирование алгоритмов разветвляющейся структуры."
   ]
  },
  {
   "cell_type": "markdown",
   "metadata": {},
   "source": [
    "3. Даны действительные положительные числа `x, y, z`. Выяснить, существует ли треугольник с длинами `x, y, z`."
   ]
  },
  {
   "cell_type": "code",
   "execution_count": 2,
   "metadata": {},
   "outputs": [
    {
     "name": "stdout",
     "output_type": "stream",
     "text": [
      "Треугольник существует.\n"
     ]
    }
   ],
   "source": [
    "x, y, z = 3, 3, 3\n",
    "\n",
    "if x + y > z and y + z > x and z + x > y:\n",
    "    print(\"Треугольник существует.\")\n",
    "else:\n",
    "    print(\"Треугольник не существует.\")"
   ]
  },
  {
   "cell_type": "markdown",
   "metadata": {},
   "source": [
    "Сумма длин любых двух сторон треугольника должна быть больше длины третьей стороны."
   ]
  }
 ],
 "metadata": {
  "kernelspec": {
   "display_name": "Python 3",
   "language": "python",
   "name": "python3"
  },
  "language_info": {
   "codemirror_mode": {
    "name": "ipython",
    "version": 3
   },
   "file_extension": ".py",
   "mimetype": "text/x-python",
   "name": "python",
   "nbconvert_exporter": "python",
   "pygments_lexer": "ipython3",
   "version": "3.11.5"
  }
 },
 "nbformat": 4,
 "nbformat_minor": 2
}
