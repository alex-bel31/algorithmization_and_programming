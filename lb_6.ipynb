{
 "cells": [
  {
   "cell_type": "markdown",
   "metadata": {},
   "source": [
    "<div align=center>\n",
    "\n",
    "# Лабораторная работа № 6\n",
    "\n",
    "</div>\n",
    "\n",
    "Программирование алгоритмов преобразования матриц"
   ]
  },
  {
   "cell_type": "markdown",
   "metadata": {},
   "source": [
    "Необходимые импорты"
   ]
  },
  {
   "cell_type": "code",
   "execution_count": 1,
   "metadata": {},
   "outputs": [],
   "source": [
    "import numpy as np"
   ]
  },
  {
   "cell_type": "markdown",
   "metadata": {},
   "source": [
    "12. Вычислить и напечатать для каждого столбца матрицы F(15×7) среднее\n",
    "арифметическое положительных элементов и произведение\n",
    "отрицательных. "
   ]
  },
  {
   "cell_type": "code",
   "execution_count": 24,
   "metadata": {},
   "outputs": [
    {
     "name": "stdout",
     "output_type": "stream",
     "text": [
      "Столбец 1: Среднее положительных = 5.57\tПроизведение отрицательных = -100800\n",
      "Столбец 2: Среднее положительных = 3.0\tПроизведение отрицательных = -2592\n",
      "Столбец 3: Среднее положительных = 4.33\tПроизведение отрицательных = 381024000\n",
      "Столбец 4: Среднее положительных = 4.67\tПроизведение отрицательных = 21337344\n",
      "Столбец 5: Среднее положительных = 5.43\tПроизведение отрицательных = -15360\n",
      "Столбец 6: Среднее положительных = 4.0\tПроизведение отрицательных = -19756800\n",
      "Столбец 7: Среднее положительных = 5.0\tПроизведение отрицательных = 680400\n"
     ]
    }
   ],
   "source": [
    "matrix_f = np.random.randint(-10, 10, size=(15, 7))\n",
    "\n",
    "def mean_positive(matrix):\n",
    "    positive_values = matrix[matrix > 0]\n",
    "    return np.mean(positive_values) if positive_values.size > 0 else 0\n",
    "\n",
    "def product_negative(matrix):\n",
    "    negative_values = matrix[matrix < 0]\n",
    "    return np.prod(negative_values) if negative_values.size > 0 else 0\n",
    "\n",
    "for col_index in range(matrix_f.shape[1]):\n",
    "    column = matrix_f[:, col_index]\n",
    "    avg_positive = mean_positive(column)\n",
    "    prod_negative = product_negative(column)\n",
    "    print(f\"Столбец {col_index + 1}: Среднее положительных = {round(avg_positive, 2)}\\t\"\n",
    "          f\"Произведение отрицательных = {prod_negative}\")\n"
   ]
  },
  {
   "cell_type": "markdown",
   "metadata": {},
   "source": [
    "Используем библиотеку NumPy для создания матрицы. \n",
    "\n",
    "Функция `mean_positive` принимает столбец матрицы и возвращает среднее арифметическое положительных элементов. Если положительных элементов нет, возвращается 0\n",
    "\n",
    "Функция `product_negative` принимает столбец матрицы и возвращает произведение отрицательных элементов. Если отрицательных элементов нет, возвращается 0.\n",
    "\n",
    "В цикле проходим по каждому столбцу матрицы, вычисляем среднее положительных и произведение отрицательных элементов, а затем выводим результаты."
   ]
  }
 ],
 "metadata": {
  "kernelspec": {
   "display_name": "Python 3",
   "language": "python",
   "name": "python3"
  },
  "language_info": {
   "codemirror_mode": {
    "name": "ipython",
    "version": 3
   },
   "file_extension": ".py",
   "mimetype": "text/x-python",
   "name": "python",
   "nbconvert_exporter": "python",
   "pygments_lexer": "ipython3",
   "version": "3.11.5"
  }
 },
 "nbformat": 4,
 "nbformat_minor": 2
}
