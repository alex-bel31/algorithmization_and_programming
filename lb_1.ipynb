{
 "cells": [
  {
   "cell_type": "markdown",
   "metadata": {},
   "source": [
    "<div align=\"center\">\n",
    "\n",
    "# Лабораторная работа № 1\n",
    "\n",
    "</div>\n",
    "\n",
    "Программирование алгоритмов линейной структуры."
   ]
  },
  {
   "cell_type": "markdown",
   "metadata": {},
   "source": [
    "Необходимые импорты"
   ]
  },
  {
   "cell_type": "code",
   "execution_count": 2,
   "metadata": {},
   "outputs": [],
   "source": [
    "import random as r\n",
    "import numpy as np"
   ]
  },
  {
   "cell_type": "markdown",
   "metadata": {},
   "source": [
    "1. Даны x, y, z. Вычислить a, b если\n",
    "\n",
    "<div align=\"center\">\n",
    "\n",
    "$ a = \\frac{\\sqrt{(|x - 1|)}  - \\sqrt{(|y|)}}{1+x^2/2+y^2/4}$\n",
    "\n",
    "$ b = x(arctg \\quad z + e ^{-(x + 3)})$\n",
    "\n",
    "</div>"
   ]
  },
  {
   "cell_type": "code",
   "execution_count": 5,
   "metadata": {},
   "outputs": [
    {
     "name": "stdout",
     "output_type": "stream",
     "text": [
      "a = -0.033, b = 5.0\n"
     ]
    }
   ],
   "source": [
    "x = r.randint(1, 10)\n",
    "y = r.randint(1, 10)\n",
    "z = r.randint(1, 10)\n",
    "\n",
    "a = (np.sqrt(np.abs(x - 1)) - np.sqrt(np.abs(y))) / (1 + x**2/2 + y**2/4)\n",
    "b = x * (np.arctan(z) + np.exp(-(x + 3)))\n",
    "\n",
    "print(f'a = {round(a,3)}, b = {round(b,3)}')"
   ]
  },
  {
   "cell_type": "markdown",
   "metadata": {},
   "source": [
    "Генерируем случайные числа для `x, y и z` и производим вычисления по формуле с помощью библиотеки `numpy`."
   ]
  }
 ],
 "metadata": {
  "kernelspec": {
   "display_name": "Python 3",
   "language": "python",
   "name": "python3"
  },
  "language_info": {
   "codemirror_mode": {
    "name": "ipython",
    "version": 3
   },
   "file_extension": ".py",
   "mimetype": "text/x-python",
   "name": "python",
   "nbconvert_exporter": "python",
   "pygments_lexer": "ipython3",
   "version": "3.11.5"
  }
 },
 "nbformat": 4,
 "nbformat_minor": 2
}
