{
 "cells": [
  {
   "cell_type": "markdown",
   "metadata": {},
   "source": [
    "<div align=center>\n",
    "\n",
    "# Лабораторная работа № 5\n",
    "\n",
    "</div>\n",
    "\n",
    "Программирование вложенных циклов"
   ]
  },
  {
   "cell_type": "markdown",
   "metadata": {},
   "source": [
    "Необходимые импорты"
   ]
  },
  {
   "cell_type": "code",
   "execution_count": 1,
   "metadata": {},
   "outputs": [],
   "source": [
    "import random as r"
   ]
  },
  {
   "cell_type": "markdown",
   "metadata": {},
   "source": [
    "12. Дано натуральное число n. Вычислить $\\displaystyle\\sum_{k=1}^{n} \\frac{1}{(k^2)!}$"
   ]
  },
  {
   "cell_type": "code",
   "execution_count": 19,
   "metadata": {},
   "outputs": [
    {
     "data": {
      "text/plain": [
       "1.041669422398637"
      ]
     },
     "execution_count": 19,
     "metadata": {},
     "output_type": "execute_result"
    }
   ],
   "source": [
    "n = r.randint(1, 10)\n",
    "\n",
    "result = 0\n",
    "for i in range(1, n+1):\n",
    "    factorial = 1\n",
    "    for j in range(2, i**2 + 1):\n",
    "        factorial *= j\n",
    "    term = 1 / factorial\n",
    "    result += term\n",
    "\n",
    "result"
   ]
  },
  {
   "cell_type": "markdown",
   "metadata": {},
   "source": [
    "Генерируем для переменной `n` случайное значение, затем вычисляем сумму согласно заданной формуле. Внутри цикла `for` вычисляется факториал $(k^2)!$ для каждого значения k, и затем значение $1/(k^2)!$ добавляется к результату суммы."
   ]
  }
 ],
 "metadata": {
  "kernelspec": {
   "display_name": "Python 3",
   "language": "python",
   "name": "python3"
  },
  "language_info": {
   "codemirror_mode": {
    "name": "ipython",
    "version": 3
   },
   "file_extension": ".py",
   "mimetype": "text/x-python",
   "name": "python",
   "nbconvert_exporter": "python",
   "pygments_lexer": "ipython3",
   "version": "3.11.5"
  }
 },
 "nbformat": 4,
 "nbformat_minor": 2
}
