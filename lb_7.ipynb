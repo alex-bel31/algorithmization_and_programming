{
 "cells": [
  {
   "cell_type": "markdown",
   "metadata": {},
   "source": [
    "<div align=center>\n",
    "\n",
    "# Лабораторная работа № 7\n",
    "\n",
    "</div>\n",
    "\n",
    "Программирование алгоритмов определения max и min значений массивов"
   ]
  },
  {
   "cell_type": "markdown",
   "metadata": {},
   "source": [
    "Необходиммые импорты"
   ]
  },
  {
   "cell_type": "code",
   "execution_count": 1,
   "metadata": {},
   "outputs": [],
   "source": [
    "import numpy as np"
   ]
  },
  {
   "cell_type": "markdown",
   "metadata": {},
   "source": [
    "12. Найти среднее арифметическое элементов массива, составленного из\n",
    "максимальных элементов каждого столбца действительной матрицы\n",
    "размера 10×15"
   ]
  },
  {
   "cell_type": "code",
   "execution_count": 18,
   "metadata": {},
   "outputs": [
    {
     "name": "stdout",
     "output_type": "stream",
     "text": [
      "[[82 99 91 98 93 93 99 65 90 96 90 96 99 85 97]\n",
      " [82 99 91 98 93 93 99 65 90 96 90 96 99 85 97]\n",
      " [82 99 91 98 93 93 99 65 90 96 90 96 99 85 97]\n",
      " [82 99 91 98 93 93 99 65 90 96 90 96 99 85 97]\n",
      " [82 99 91 98 93 93 99 65 90 96 90 96 99 85 97]\n",
      " [82 99 91 98 93 93 99 65 90 96 90 96 99 85 97]\n",
      " [82 99 91 98 93 93 99 65 90 96 90 96 99 85 97]\n",
      " [82 99 91 98 93 93 99 65 90 96 90 96 99 85 97]\n",
      " [82 99 91 98 93 93 99 65 90 96 90 96 99 85 97]\n",
      " [82 99 91 98 93 93 99 65 90 96 90 96 99 85 97]]\n"
     ]
    }
   ],
   "source": [
    "matrix = np.random.randint(1, 100, size=(10, 15))\n",
    "\n",
    "max_elements = []\n",
    "for j in range(matrix.shape[1]):\n",
    "    max_element = matrix[0, j]\n",
    "    for i in range(1, matrix.shape[0]):  \n",
    "        if matrix[i, j] > max_element:\n",
    "            max_element = matrix[i, j]\n",
    "    max_elements.append(max_element)\n",
    "\n",
    "max_elements_array = np.array([max_elements] * 10)\n",
    "\n",
    "average = np.mean(max_elements_array)\n",
    "\n",
    "print(f\"Среднее арифметическое максимальных элементов каждого столбца: {round(average, 2)}\")"
   ]
  },
  {
   "cell_type": "markdown",
   "metadata": {},
   "source": [
    "Генерируем матрицу 10×15 из слусайных чисел. Циклом проходим по каждому столбцу, а вложенным циклом проходим по каждой строке в этом столбце и добавляем в список `max_elements`. Создаем массив `max_elements_array` в котором каждая строка состоит из элемнтов списка `max_elements`. Используя функцию `mean` находим находим среднее арифметическое всех элементов в массиве и выводим результат.\n",
    "\n"
   ]
  }
 ],
 "metadata": {
  "kernelspec": {
   "display_name": "Python 3",
   "language": "python",
   "name": "python3"
  },
  "language_info": {
   "codemirror_mode": {
    "name": "ipython",
    "version": 3
   },
   "file_extension": ".py",
   "mimetype": "text/x-python",
   "name": "python",
   "nbconvert_exporter": "python",
   "pygments_lexer": "ipython3",
   "version": "3.11.5"
  }
 },
 "nbformat": 4,
 "nbformat_minor": 2
}
