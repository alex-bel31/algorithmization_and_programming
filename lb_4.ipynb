{
 "cells": [
  {
   "cell_type": "markdown",
   "metadata": {},
   "source": [
    "<div align=center>\n",
    "\n",
    "# Лабораторная работа № 4\n",
    "\n",
    "</div>\n",
    "\n",
    "Программирование алгоритмов, сочетающих циклы и разветвления"
   ]
  },
  {
   "cell_type": "markdown",
   "metadata": {},
   "source": [
    "12. Даны целые числа $a_1,...,a_{50}$. Получить последовательность $b_1,...,b_{50}$, которая отличается от исходной тем, что все нечётные члены удвоены."
   ]
  },
  {
   "cell_type": "code",
   "execution_count": 2,
   "metadata": {},
   "outputs": [
    {
     "name": "stdout",
     "output_type": "stream",
     "text": [
      "Исходная последовательность a: [1, 2, 3, 4, 5, 6, 7, 8, 9, 10, 11, 12, 13, 14, 15, 16, 17, 18, 19, 20, 21, 22, 23, 24, 25, 26, 27, 28, 29, 30, 31, 32, 33, 34, 35, 36, 37, 38, 39, 40, 41, 42, 43, 44, 45, 46, 47, 48, 49, 50]\n",
      "Последовательность b: [1, 4, 3, 8, 5, 12, 7, 16, 9, 20, 11, 24, 13, 28, 15, 32, 17, 36, 19, 40, 21, 44, 23, 48, 25, 52, 27, 56, 29, 60, 31, 64, 33, 68, 35, 72, 37, 76, 39, 80, 41, 84, 43, 88, 45, 92, 47, 96, 49, 100]\n"
     ]
    }
   ],
   "source": [
    "a = []\n",
    "for i in range(1, 51):\n",
    "    a.append(i)\n",
    "\n",
    "b = []\n",
    "\n",
    "for i in range(len(a)):\n",
    "    if i % 2 != 0:  \n",
    "        b.append(2 * a[i])\n",
    "    else:\n",
    "        b.append(a[i])\n",
    "\n",
    "print(\"Исходная последовательность a:\", a)\n",
    "print(\"Последовательность b:\", b)"
   ]
  },
  {
   "cell_type": "markdown",
   "metadata": {},
   "source": [
    "Циклом проходим по каждому элементу исходной последовательности `a`. Если индекс элемента нечетный, то соответствующий элемент в новой последовательности `b` удваивается, иначе элемент остается без изменений."
   ]
  }
 ],
 "metadata": {
  "kernelspec": {
   "display_name": "Python 3",
   "language": "python",
   "name": "python3"
  },
  "language_info": {
   "codemirror_mode": {
    "name": "ipython",
    "version": 3
   },
   "file_extension": ".py",
   "mimetype": "text/x-python",
   "name": "python",
   "nbconvert_exporter": "python",
   "pygments_lexer": "ipython3",
   "version": "3.11.5"
  }
 },
 "nbformat": 4,
 "nbformat_minor": 2
}
